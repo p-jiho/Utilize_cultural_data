{
 "cells": [
  {
   "cell_type": "code",
   "execution_count": 3,
   "id": "9491d67c",
   "metadata": {},
   "outputs": [],
   "source": [
    "import pandas as pd"
   ]
  },
  {
   "cell_type": "code",
   "execution_count": 31,
   "id": "d0cb6b30",
   "metadata": {},
   "outputs": [],
   "source": [
    "Sex_Data = pd.read_csv(\"data/성별 소비현황.csv\")\n",
    "Sex_Data = Sex_Data.reset_index()\n",
    "Sex_Data[\"Date\"] = [str(Sex_Data.level_0[i]) + \"_\" + str(Sex_Data.level_1[i]) for i in range(len(Sex_Data))]\n",
    "Sex_Data = Sex_Data.rename(columns = {\"BASE_YEAR\" : \"Induty\",\n",
    "                      \"BASE_MT\" : \"Sex\",\n",
    "                      \"INDUTY_NM\" : \"Price\"})\n",
    "Sex_Data = Sex_Data[[\"Date\", \"Induty\", \"Sex\", \"Price\"]]\n",
    "Sex_Data.to_excel(\"data/성별 소비현황[2016-2021].xlsx\", index = False, columns = True)"
   ]
  },
  {
   "cell_type": "code",
   "execution_count": 47,
   "id": "6cd2f507",
   "metadata": {},
   "outputs": [],
   "source": [
    "Date_Data = pd.read_csv(\"data/시간대별 소비현황.csv\")\n",
    "Date_Data = Date_Data.reset_index()\n",
    "Date_Data[\"Date\"] = [str(Date_Data.level_0[i]) + \"_\" + str(Date_Data.level_1[i]) for i in range(len(Date_Data))]\n",
    "Date_Data = Date_Data.rename(columns = {\"BASE_YEAR\" : \"Induty\",\n",
    "                      \"BASE_MT\" : \"Time\",\n",
    "                      \"INDUTY_NM\" : \"Price\"})\n",
    "Date_Data = Date_Data[[\"Date\", \"Induty\", \"Time\", \"Price\"]]\n",
    "Date_Data.to_excel(\"data/시간대별 소비현황[2016-2021].xlsx\", index = False)"
   ]
  },
  {
   "cell_type": "code",
   "execution_count": 52,
   "id": "4aa4b7ae",
   "metadata": {},
   "outputs": [],
   "source": [
    "Induty_Data = pd.read_csv(\"data/업종별 소비현황.csv\")\n",
    "Induty_Data = Induty_Data.rename(columns = {\"BASE_YEAR\" : \"Date\",\n",
    "                      \"LCLAS_NM\" : \"Induty\",\n",
    "                      \"CRSTAT_DC\" : \"Price\"})\n",
    "Induty_Data.to_excel(\"data/업종별 소비현황[2016-2021].xlsx\", index = False)"
   ]
  },
  {
   "cell_type": "code",
   "execution_count": 61,
   "id": "60a55fae",
   "metadata": {},
   "outputs": [],
   "source": [
    "Age_Data = pd.read_csv(\"data/연령대별 소비현황.csv\")\n",
    "Age_Data[\"Date\"] = [str(Age_Data.BASE_YEAR[i]) + \"_\" + str(Age_Data.BASE_MT[i]) for i in range(len(Age_Data))]\n",
    "Age_Data = Age_Data.rename(columns = {\"INDUTY_NM\" : \"Induty\",\n",
    "                      \"AGRDE_FLAG_NM\" : \"Age\",\n",
    "                      \"UTILIIZA_PRICE\" : \"Price\"})\n",
    "Age_Data = Age_Data[[\"Date\", \"Induty\", \"Age\", \"Price\"]]\n",
    "Age_Data.to_excel(\"data/연령대별 소비현황[2016-2021].xlsx\", index = False)"
   ]
  },
  {
   "cell_type": "code",
   "execution_count": 65,
   "id": "3a688d01",
   "metadata": {},
   "outputs": [],
   "source": [
    "Area_Data = pd.read_csv(\"data/지역별 소비현황.csv\")\n",
    "Area_Data = Area_Data.rename(columns = {\"BASE_YEAR\" : \"Date\",\n",
    "                      \"INFLOW_AREA_NM\" : \"Area\",\n",
    "                      \"CRSTAT_DC\" : \"Price\"})\n",
    "Area_Data.to_excel(\"data/지역별 소비현황[2016-2020].xlsx\", index = False)"
   ]
  },
  {
   "cell_type": "code",
   "execution_count": null,
   "id": "0fade90c",
   "metadata": {},
   "outputs": [],
   "source": []
  },
  {
   "cell_type": "code",
   "execution_count": null,
   "id": "61b6bb42",
   "metadata": {},
   "outputs": [],
   "source": [
    "# 서울시 여가생활 데이터 정리\n",
    "Data = pd.read_excel(\"data/서울시 여가생활시간.xlsx\", header = 1)\n",
    "Data = Data.fillna( method='pad')\n",
    "Data = Data.rename(columns = {\n",
    "    \"자치구별(2)\" : \"Activity\",\n",
    "    \"자치구별(3)\" : \"Detail_Activity\",\n",
    "    \"성별(2)\" : \"Sex\",\n",
    "    \"요일평균\" : \"All\",\n",
    "    \"평일\" : \"Weekday\",\n",
    "    \"토요일\" : \"Saturday\",\n",
    "    \"일요일\" : \"Sunday\"\n",
    "})\n",
    "Data.All = [int(Data.All.iloc[i][0])*60 + int(Data.All.iloc[i][2:4]) for i in range(len(Data))]\n",
    "Data.Weekday = [int(Data.Weekday.iloc[i][0])*60 + int(Data.Weekday.iloc[i][2:4]) for i in range(len(Data))]\n",
    "Data.Saturday = [int(Data.Saturday.iloc[i][0])*60 + int(Data.Saturday.iloc[i][2:4]) for i in range(len(Data))]\n",
    "Data.Sunday = [int(Data.Sunday.iloc[i][0])*60 + int(Data.Sunday.iloc[i][2:4]) for i in range(len(Data))]\n",
    "Data[\"Weekend\"] = (Data.Saturday + Data.Sunday)/2\n",
    "Data = Data[[\"Activity\", \"Detail_Activity\", \"Sex\", \"All\", \"Weekday\", \"Weekend\"]]\n",
    "Data.to_excel(\"data/서울시 여가생활시간_정리.xlsx\", index = False, header = True)"
   ]
  },
  {
   "cell_type": "code",
   "execution_count": null,
   "id": "20b93d82",
   "metadata": {},
   "outputs": [],
   "source": [
    "# 서울시 소비생활 만족도 데이터 정리\n",
    "Data = pd.read_excel(\"data/서울시 소비생활 만족도.xlsx\" , header = [0,1])\n",
    "Data = Data.T.reset_index()\n",
    "Data.columns = Data.iloc[1]\n",
    "Data = Data.iloc[2:]\n",
    "Data.columns = ['Year', 'Satisfaction', 'All', 'Man', 'Female', '15-19세', '20-29세', '19~29세',\n",
    "       '30-39세', '40-49세', '50-59세', '60세이상']\n",
    "Data_All = Data[[\"Year\", \"Satisfaction\",\"All\"]]\n",
    "Data_Sex = Data[[\"Year\", \"Satisfaction\",'Man', 'Female']]\n",
    "Data_Age = Data[['15-19세', '20-29세', '19~29세',\n",
    "       '30-39세', '40-49세', '50-59세', '60세이상']]\n",
    "Data_All.to_excel(\"data/서울시 소비생활 만족도_합계.xlsx\", index = False, header = True)\n",
    "Data_Sex.to_excel(\"data/서울시 소비생활 만족도_성별.xlsx\", index = False, header = True)\n",
    "Data_Age.to_excel(\"data/서울시 소비생활 만족도_연령별.xlsx\", index = False, header = True)\n"
   ]
  }
 ],
 "metadata": {
  "kernelspec": {
   "display_name": "Python 3 (ipykernel)",
   "language": "python",
   "name": "python3"
  },
  "language_info": {
   "codemirror_mode": {
    "name": "ipython",
    "version": 3
   },
   "file_extension": ".py",
   "mimetype": "text/x-python",
   "name": "python",
   "nbconvert_exporter": "python",
   "pygments_lexer": "ipython3",
   "version": "3.9.13"
  }
 },
 "nbformat": 4,
 "nbformat_minor": 5
}
